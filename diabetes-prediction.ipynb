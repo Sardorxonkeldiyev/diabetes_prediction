{
 "cells": [
  {
   "cell_type": "code",
   "execution_count": 1,
   "id": "e1d4fd20",
   "metadata": {
    "_cell_guid": "b1076dfc-b9ad-4769-8c92-a6c4dae69d19",
    "_uuid": "8f2839f25d086af736a60e9eeb907d3b93b6e0e5",
    "execution": {
     "iopub.execute_input": "2024-01-30T15:42:49.064080Z",
     "iopub.status.busy": "2024-01-30T15:42:49.063757Z",
     "iopub.status.idle": "2024-01-30T15:42:49.914100Z",
     "shell.execute_reply": "2024-01-30T15:42:49.912840Z"
    },
    "papermill": {
     "duration": 0.862758,
     "end_time": "2024-01-30T15:42:49.916169",
     "exception": false,
     "start_time": "2024-01-30T15:42:49.053411",
     "status": "completed"
    },
    "tags": []
   },
   "outputs": [
    {
     "name": "stdout",
     "output_type": "stream",
     "text": [
      "/kaggle/input/basic-of-kaggle-diabetes/sample_submission.csv\n",
      "/kaggle/input/basic-of-kaggle-diabetes/train.csv\n",
      "/kaggle/input/basic-of-kaggle-diabetes/test.csv\n"
     ]
    }
   ],
   "source": [
    "# This Python 3 environment comes with many helpful analytics libraries installed\n",
    "# It is defined by the kaggle/python Docker image: https://github.com/kaggle/docker-python\n",
    "# For example, here's several helpful packages to load\n",
    "\n",
    "import numpy as np # linear algebra\n",
    "import pandas as pd # data processing, CSV file I/O (e.g. pd.read_csv)\n",
    "\n",
    "# Input data files are available in the read-only \"../input/\" directory\n",
    "# For example, running this (by clicking run or pressing Shift+Enter) will list all files under the input directory\n",
    "\n",
    "import os\n",
    "for dirname, _, filenames in os.walk('/kaggle/input'):\n",
    "    for filename in filenames:\n",
    "        print(os.path.join(dirname, filename))\n",
    "\n",
    "# You can write up to 20GB to the current directory (/kaggle/working/) that gets preserved as output when you create a version using \"Save & Run All\" \n",
    "# You can also write temporary files to /kaggle/temp/, but they won't be saved outside of the current session"
   ]
  },
  {
   "cell_type": "code",
   "execution_count": 2,
   "id": "e29b26d7",
   "metadata": {
    "execution": {
     "iopub.execute_input": "2024-01-30T15:42:49.934454Z",
     "iopub.status.busy": "2024-01-30T15:42:49.934038Z",
     "iopub.status.idle": "2024-01-30T15:42:51.777139Z",
     "shell.execute_reply": "2024-01-30T15:42:51.776417Z"
    },
    "papermill": {
     "duration": 1.854445,
     "end_time": "2024-01-30T15:42:51.779425",
     "exception": false,
     "start_time": "2024-01-30T15:42:49.924980",
     "status": "completed"
    },
    "tags": []
   },
   "outputs": [],
   "source": [
    "import pandas as pd\n",
    "import numpy as np\n",
    "import matplotlib.pyplot as plt\n",
    "import seaborn as sns\n",
    "import sklearn\n",
    "from sklearn.preprocessing import LabelEncoder\n",
    "from sklearn.model_selection import train_test_split\n",
    "from sklearn.linear_model import LogisticRegression\n",
    "from sklearn.ensemble import RandomForestClassifier\n",
    "from sklearn.metrics import accuracy_score\n",
    "%matplotlib inline"
   ]
  },
  {
   "cell_type": "markdown",
   "id": "f753f762",
   "metadata": {
    "papermill": {
     "duration": 0.008251,
     "end_time": "2024-01-30T15:42:51.796248",
     "exception": false,
     "start_time": "2024-01-30T15:42:51.787997",
     "status": "completed"
    },
    "tags": []
   },
   "source": [
    "# Datasets: "
   ]
  },
  {
   "cell_type": "code",
   "execution_count": 3,
   "id": "a922c735",
   "metadata": {
    "execution": {
     "iopub.execute_input": "2024-01-30T15:42:51.813999Z",
     "iopub.status.busy": "2024-01-30T15:42:51.813565Z",
     "iopub.status.idle": "2024-01-30T15:42:51.844217Z",
     "shell.execute_reply": "2024-01-30T15:42:51.843344Z"
    },
    "papermill": {
     "duration": 0.041808,
     "end_time": "2024-01-30T15:42:51.846312",
     "exception": false,
     "start_time": "2024-01-30T15:42:51.804504",
     "status": "completed"
    },
    "tags": []
   },
   "outputs": [],
   "source": [
    "train_set = pd.read_csv('/kaggle/input/basic-of-kaggle-diabetes/train.csv')\n",
    "test_set = pd.read_csv('/kaggle/input/basic-of-kaggle-diabetes/test.csv')\n",
    "submission=  pd.read_csv('/kaggle/input/basic-of-kaggle-diabetes/sample_submission.csv')"
   ]
  },
  {
   "cell_type": "code",
   "execution_count": 4,
   "id": "fbfba2ca",
   "metadata": {
    "execution": {
     "iopub.execute_input": "2024-01-30T15:42:51.865471Z",
     "iopub.status.busy": "2024-01-30T15:42:51.865213Z",
     "iopub.status.idle": "2024-01-30T15:42:51.889340Z",
     "shell.execute_reply": "2024-01-30T15:42:51.888497Z"
    },
    "papermill": {
     "duration": 0.036629,
     "end_time": "2024-01-30T15:42:51.891244",
     "exception": false,
     "start_time": "2024-01-30T15:42:51.854615",
     "status": "completed"
    },
    "tags": []
   },
   "outputs": [
    {
     "data": {
      "text/html": [
       "<div>\n",
       "<style scoped>\n",
       "    .dataframe tbody tr th:only-of-type {\n",
       "        vertical-align: middle;\n",
       "    }\n",
       "\n",
       "    .dataframe tbody tr th {\n",
       "        vertical-align: top;\n",
       "    }\n",
       "\n",
       "    .dataframe thead th {\n",
       "        text-align: right;\n",
       "    }\n",
       "</style>\n",
       "<table border=\"1\" class=\"dataframe\">\n",
       "  <thead>\n",
       "    <tr style=\"text-align: right;\">\n",
       "      <th></th>\n",
       "      <th>ID</th>\n",
       "      <th>age</th>\n",
       "      <th>gender</th>\n",
       "      <th>polyuria</th>\n",
       "      <th>polydipsia</th>\n",
       "      <th>sudden_weight_loss</th>\n",
       "      <th>weakness</th>\n",
       "      <th>polyphagia</th>\n",
       "      <th>genital_thrush</th>\n",
       "      <th>visual_blurring</th>\n",
       "      <th>itching</th>\n",
       "      <th>irritability</th>\n",
       "      <th>delayed_healing</th>\n",
       "      <th>partial_paresis</th>\n",
       "      <th>muscle_stiffness</th>\n",
       "      <th>alopecia</th>\n",
       "      <th>obesity</th>\n",
       "      <th>class</th>\n",
       "    </tr>\n",
       "  </thead>\n",
       "  <tbody>\n",
       "    <tr>\n",
       "      <th>0</th>\n",
       "      <td>0</td>\n",
       "      <td>41</td>\n",
       "      <td>Male</td>\n",
       "      <td>Yes</td>\n",
       "      <td>No</td>\n",
       "      <td>No</td>\n",
       "      <td>Yes</td>\n",
       "      <td>Yes</td>\n",
       "      <td>No</td>\n",
       "      <td>No</td>\n",
       "      <td>Yes</td>\n",
       "      <td>No</td>\n",
       "      <td>Yes</td>\n",
       "      <td>No</td>\n",
       "      <td>Yes</td>\n",
       "      <td>Yes</td>\n",
       "      <td>No</td>\n",
       "      <td>Positive</td>\n",
       "    </tr>\n",
       "    <tr>\n",
       "      <th>1</th>\n",
       "      <td>1</td>\n",
       "      <td>45</td>\n",
       "      <td>Male</td>\n",
       "      <td>No</td>\n",
       "      <td>No</td>\n",
       "      <td>Yes</td>\n",
       "      <td>Yes</td>\n",
       "      <td>Yes</td>\n",
       "      <td>Yes</td>\n",
       "      <td>No</td>\n",
       "      <td>Yes</td>\n",
       "      <td>No</td>\n",
       "      <td>Yes</td>\n",
       "      <td>No</td>\n",
       "      <td>No</td>\n",
       "      <td>No</td>\n",
       "      <td>No</td>\n",
       "      <td>Positive</td>\n",
       "    </tr>\n",
       "    <tr>\n",
       "      <th>2</th>\n",
       "      <td>2</td>\n",
       "      <td>60</td>\n",
       "      <td>Male</td>\n",
       "      <td>Yes</td>\n",
       "      <td>Yes</td>\n",
       "      <td>Yes</td>\n",
       "      <td>Yes</td>\n",
       "      <td>Yes</td>\n",
       "      <td>No</td>\n",
       "      <td>Yes</td>\n",
       "      <td>Yes</td>\n",
       "      <td>Yes</td>\n",
       "      <td>Yes</td>\n",
       "      <td>Yes</td>\n",
       "      <td>Yes</td>\n",
       "      <td>Yes</td>\n",
       "      <td>Yes</td>\n",
       "      <td>Positive</td>\n",
       "    </tr>\n",
       "    <tr>\n",
       "      <th>3</th>\n",
       "      <td>3</td>\n",
       "      <td>66</td>\n",
       "      <td>Male</td>\n",
       "      <td>Yes</td>\n",
       "      <td>Yes</td>\n",
       "      <td>Yes</td>\n",
       "      <td>Yes</td>\n",
       "      <td>No</td>\n",
       "      <td>No</td>\n",
       "      <td>Yes</td>\n",
       "      <td>Yes</td>\n",
       "      <td>Yes</td>\n",
       "      <td>No</td>\n",
       "      <td>Yes</td>\n",
       "      <td>Yes</td>\n",
       "      <td>No</td>\n",
       "      <td>No</td>\n",
       "      <td>Positive</td>\n",
       "    </tr>\n",
       "    <tr>\n",
       "      <th>4</th>\n",
       "      <td>4</td>\n",
       "      <td>67</td>\n",
       "      <td>Male</td>\n",
       "      <td>Yes</td>\n",
       "      <td>Yes</td>\n",
       "      <td>No</td>\n",
       "      <td>Yes</td>\n",
       "      <td>Yes</td>\n",
       "      <td>Yes</td>\n",
       "      <td>No</td>\n",
       "      <td>Yes</td>\n",
       "      <td>Yes</td>\n",
       "      <td>No</td>\n",
       "      <td>Yes</td>\n",
       "      <td>Yes</td>\n",
       "      <td>No</td>\n",
       "      <td>Yes</td>\n",
       "      <td>Positive</td>\n",
       "    </tr>\n",
       "    <tr>\n",
       "      <th>5</th>\n",
       "      <td>5</td>\n",
       "      <td>70</td>\n",
       "      <td>Male</td>\n",
       "      <td>No</td>\n",
       "      <td>Yes</td>\n",
       "      <td>Yes</td>\n",
       "      <td>Yes</td>\n",
       "      <td>Yes</td>\n",
       "      <td>No</td>\n",
       "      <td>Yes</td>\n",
       "      <td>Yes</td>\n",
       "      <td>Yes</td>\n",
       "      <td>No</td>\n",
       "      <td>No</td>\n",
       "      <td>No</td>\n",
       "      <td>Yes</td>\n",
       "      <td>No</td>\n",
       "      <td>Positive</td>\n",
       "    </tr>\n",
       "    <tr>\n",
       "      <th>6</th>\n",
       "      <td>6</td>\n",
       "      <td>44</td>\n",
       "      <td>Male</td>\n",
       "      <td>Yes</td>\n",
       "      <td>Yes</td>\n",
       "      <td>No</td>\n",
       "      <td>Yes</td>\n",
       "      <td>No</td>\n",
       "      <td>Yes</td>\n",
       "      <td>No</td>\n",
       "      <td>No</td>\n",
       "      <td>Yes</td>\n",
       "      <td>Yes</td>\n",
       "      <td>No</td>\n",
       "      <td>Yes</td>\n",
       "      <td>Yes</td>\n",
       "      <td>No</td>\n",
       "      <td>Positive</td>\n",
       "    </tr>\n",
       "    <tr>\n",
       "      <th>7</th>\n",
       "      <td>7</td>\n",
       "      <td>38</td>\n",
       "      <td>Male</td>\n",
       "      <td>Yes</td>\n",
       "      <td>Yes</td>\n",
       "      <td>No</td>\n",
       "      <td>No</td>\n",
       "      <td>Yes</td>\n",
       "      <td>Yes</td>\n",
       "      <td>No</td>\n",
       "      <td>Yes</td>\n",
       "      <td>No</td>\n",
       "      <td>Yes</td>\n",
       "      <td>No</td>\n",
       "      <td>Yes</td>\n",
       "      <td>No</td>\n",
       "      <td>No</td>\n",
       "      <td>Positive</td>\n",
       "    </tr>\n",
       "    <tr>\n",
       "      <th>8</th>\n",
       "      <td>8</td>\n",
       "      <td>35</td>\n",
       "      <td>Male</td>\n",
       "      <td>Yes</td>\n",
       "      <td>No</td>\n",
       "      <td>No</td>\n",
       "      <td>No</td>\n",
       "      <td>Yes</td>\n",
       "      <td>Yes</td>\n",
       "      <td>No</td>\n",
       "      <td>No</td>\n",
       "      <td>Yes</td>\n",
       "      <td>Yes</td>\n",
       "      <td>No</td>\n",
       "      <td>No</td>\n",
       "      <td>Yes</td>\n",
       "      <td>No</td>\n",
       "      <td>Positive</td>\n",
       "    </tr>\n",
       "    <tr>\n",
       "      <th>9</th>\n",
       "      <td>9</td>\n",
       "      <td>61</td>\n",
       "      <td>Male</td>\n",
       "      <td>Yes</td>\n",
       "      <td>Yes</td>\n",
       "      <td>Yes</td>\n",
       "      <td>Yes</td>\n",
       "      <td>Yes</td>\n",
       "      <td>Yes</td>\n",
       "      <td>Yes</td>\n",
       "      <td>Yes</td>\n",
       "      <td>No</td>\n",
       "      <td>No</td>\n",
       "      <td>No</td>\n",
       "      <td>No</td>\n",
       "      <td>Yes</td>\n",
       "      <td>Yes</td>\n",
       "      <td>Positive</td>\n",
       "    </tr>\n",
       "  </tbody>\n",
       "</table>\n",
       "</div>"
      ],
      "text/plain": [
       "   ID  age gender polyuria polydipsia sudden_weight_loss weakness polyphagia  \\\n",
       "0   0   41   Male      Yes         No                 No      Yes        Yes   \n",
       "1   1   45   Male       No         No                Yes      Yes        Yes   \n",
       "2   2   60   Male      Yes        Yes                Yes      Yes        Yes   \n",
       "3   3   66   Male      Yes        Yes                Yes      Yes         No   \n",
       "4   4   67   Male      Yes        Yes                 No      Yes        Yes   \n",
       "5   5   70   Male       No        Yes                Yes      Yes        Yes   \n",
       "6   6   44   Male      Yes        Yes                 No      Yes         No   \n",
       "7   7   38   Male      Yes        Yes                 No       No        Yes   \n",
       "8   8   35   Male      Yes         No                 No       No        Yes   \n",
       "9   9   61   Male      Yes        Yes                Yes      Yes        Yes   \n",
       "\n",
       "  genital_thrush visual_blurring itching irritability delayed_healing  \\\n",
       "0             No              No     Yes           No             Yes   \n",
       "1            Yes              No     Yes           No             Yes   \n",
       "2             No             Yes     Yes          Yes             Yes   \n",
       "3             No             Yes     Yes          Yes              No   \n",
       "4            Yes              No     Yes          Yes              No   \n",
       "5             No             Yes     Yes          Yes              No   \n",
       "6            Yes              No      No          Yes             Yes   \n",
       "7            Yes              No     Yes           No             Yes   \n",
       "8            Yes              No      No          Yes             Yes   \n",
       "9            Yes             Yes     Yes           No              No   \n",
       "\n",
       "  partial_paresis muscle_stiffness alopecia obesity     class  \n",
       "0              No              Yes      Yes      No  Positive  \n",
       "1              No               No       No      No  Positive  \n",
       "2             Yes              Yes      Yes     Yes  Positive  \n",
       "3             Yes              Yes       No      No  Positive  \n",
       "4             Yes              Yes       No     Yes  Positive  \n",
       "5              No               No      Yes      No  Positive  \n",
       "6              No              Yes      Yes      No  Positive  \n",
       "7              No              Yes       No      No  Positive  \n",
       "8              No               No      Yes      No  Positive  \n",
       "9              No               No      Yes     Yes  Positive  "
      ]
     },
     "execution_count": 4,
     "metadata": {},
     "output_type": "execute_result"
    }
   ],
   "source": [
    "train_set.head(10)"
   ]
  },
  {
   "cell_type": "code",
   "execution_count": 5,
   "id": "434b4278",
   "metadata": {
    "execution": {
     "iopub.execute_input": "2024-01-30T15:42:51.910805Z",
     "iopub.status.busy": "2024-01-30T15:42:51.909961Z",
     "iopub.status.idle": "2024-01-30T15:42:51.925554Z",
     "shell.execute_reply": "2024-01-30T15:42:51.924703Z"
    },
    "papermill": {
     "duration": 0.027448,
     "end_time": "2024-01-30T15:42:51.927388",
     "exception": false,
     "start_time": "2024-01-30T15:42:51.899940",
     "status": "completed"
    },
    "tags": []
   },
   "outputs": [
    {
     "data": {
      "text/html": [
       "<div>\n",
       "<style scoped>\n",
       "    .dataframe tbody tr th:only-of-type {\n",
       "        vertical-align: middle;\n",
       "    }\n",
       "\n",
       "    .dataframe tbody tr th {\n",
       "        vertical-align: top;\n",
       "    }\n",
       "\n",
       "    .dataframe thead th {\n",
       "        text-align: right;\n",
       "    }\n",
       "</style>\n",
       "<table border=\"1\" class=\"dataframe\">\n",
       "  <thead>\n",
       "    <tr style=\"text-align: right;\">\n",
       "      <th></th>\n",
       "      <th>ID</th>\n",
       "      <th>age</th>\n",
       "      <th>gender</th>\n",
       "      <th>polyuria</th>\n",
       "      <th>polydipsia</th>\n",
       "      <th>sudden_weight_loss</th>\n",
       "      <th>weakness</th>\n",
       "      <th>polyphagia</th>\n",
       "      <th>genital_thrush</th>\n",
       "      <th>visual_blurring</th>\n",
       "      <th>itching</th>\n",
       "      <th>irritability</th>\n",
       "      <th>delayed_healing</th>\n",
       "      <th>partial_paresis</th>\n",
       "      <th>muscle_stiffness</th>\n",
       "      <th>alopecia</th>\n",
       "      <th>obesity</th>\n",
       "    </tr>\n",
       "  </thead>\n",
       "  <tbody>\n",
       "    <tr>\n",
       "      <th>0</th>\n",
       "      <td>0</td>\n",
       "      <td>57</td>\n",
       "      <td>Male</td>\n",
       "      <td>Yes</td>\n",
       "      <td>Yes</td>\n",
       "      <td>Yes</td>\n",
       "      <td>Yes</td>\n",
       "      <td>Yes</td>\n",
       "      <td>No</td>\n",
       "      <td>Yes</td>\n",
       "      <td>No</td>\n",
       "      <td>No</td>\n",
       "      <td>No</td>\n",
       "      <td>Yes</td>\n",
       "      <td>No</td>\n",
       "      <td>No</td>\n",
       "      <td>No</td>\n",
       "    </tr>\n",
       "    <tr>\n",
       "      <th>1</th>\n",
       "      <td>1</td>\n",
       "      <td>55</td>\n",
       "      <td>Female</td>\n",
       "      <td>Yes</td>\n",
       "      <td>Yes</td>\n",
       "      <td>Yes</td>\n",
       "      <td>Yes</td>\n",
       "      <td>No</td>\n",
       "      <td>No</td>\n",
       "      <td>Yes</td>\n",
       "      <td>No</td>\n",
       "      <td>No</td>\n",
       "      <td>No</td>\n",
       "      <td>Yes</td>\n",
       "      <td>No</td>\n",
       "      <td>No</td>\n",
       "      <td>Yes</td>\n",
       "    </tr>\n",
       "    <tr>\n",
       "      <th>2</th>\n",
       "      <td>2</td>\n",
       "      <td>30</td>\n",
       "      <td>Male</td>\n",
       "      <td>No</td>\n",
       "      <td>No</td>\n",
       "      <td>No</td>\n",
       "      <td>No</td>\n",
       "      <td>No</td>\n",
       "      <td>No</td>\n",
       "      <td>No</td>\n",
       "      <td>No</td>\n",
       "      <td>No</td>\n",
       "      <td>No</td>\n",
       "      <td>No</td>\n",
       "      <td>No</td>\n",
       "      <td>No</td>\n",
       "      <td>No</td>\n",
       "    </tr>\n",
       "    <tr>\n",
       "      <th>3</th>\n",
       "      <td>3</td>\n",
       "      <td>45</td>\n",
       "      <td>Female</td>\n",
       "      <td>Yes</td>\n",
       "      <td>Yes</td>\n",
       "      <td>Yes</td>\n",
       "      <td>Yes</td>\n",
       "      <td>Yes</td>\n",
       "      <td>No</td>\n",
       "      <td>Yes</td>\n",
       "      <td>Yes</td>\n",
       "      <td>Yes</td>\n",
       "      <td>Yes</td>\n",
       "      <td>Yes</td>\n",
       "      <td>No</td>\n",
       "      <td>No</td>\n",
       "      <td>No</td>\n",
       "    </tr>\n",
       "    <tr>\n",
       "      <th>4</th>\n",
       "      <td>4</td>\n",
       "      <td>47</td>\n",
       "      <td>Male</td>\n",
       "      <td>No</td>\n",
       "      <td>No</td>\n",
       "      <td>No</td>\n",
       "      <td>No</td>\n",
       "      <td>No</td>\n",
       "      <td>No</td>\n",
       "      <td>No</td>\n",
       "      <td>Yes</td>\n",
       "      <td>No</td>\n",
       "      <td>No</td>\n",
       "      <td>No</td>\n",
       "      <td>No</td>\n",
       "      <td>Yes</td>\n",
       "      <td>No</td>\n",
       "    </tr>\n",
       "  </tbody>\n",
       "</table>\n",
       "</div>"
      ],
      "text/plain": [
       "   ID  age  gender polyuria polydipsia sudden_weight_loss weakness polyphagia  \\\n",
       "0   0   57    Male      Yes        Yes                Yes      Yes        Yes   \n",
       "1   1   55  Female      Yes        Yes                Yes      Yes         No   \n",
       "2   2   30    Male       No         No                 No       No         No   \n",
       "3   3   45  Female      Yes        Yes                Yes      Yes        Yes   \n",
       "4   4   47    Male       No         No                 No       No         No   \n",
       "\n",
       "  genital_thrush visual_blurring itching irritability delayed_healing  \\\n",
       "0             No             Yes      No           No              No   \n",
       "1             No             Yes      No           No              No   \n",
       "2             No              No      No           No              No   \n",
       "3             No             Yes     Yes          Yes             Yes   \n",
       "4             No              No     Yes           No              No   \n",
       "\n",
       "  partial_paresis muscle_stiffness alopecia obesity  \n",
       "0             Yes               No       No      No  \n",
       "1             Yes               No       No     Yes  \n",
       "2              No               No       No      No  \n",
       "3             Yes               No       No      No  \n",
       "4              No               No      Yes      No  "
      ]
     },
     "execution_count": 5,
     "metadata": {},
     "output_type": "execute_result"
    }
   ],
   "source": [
    "test_set.head()"
   ]
  },
  {
   "cell_type": "code",
   "execution_count": 6,
   "id": "c8b76c55",
   "metadata": {
    "execution": {
     "iopub.execute_input": "2024-01-30T15:42:51.946892Z",
     "iopub.status.busy": "2024-01-30T15:42:51.946644Z",
     "iopub.status.idle": "2024-01-30T15:42:51.955981Z",
     "shell.execute_reply": "2024-01-30T15:42:51.955199Z"
    },
    "papermill": {
     "duration": 0.020688,
     "end_time": "2024-01-30T15:42:51.957853",
     "exception": false,
     "start_time": "2024-01-30T15:42:51.937165",
     "status": "completed"
    },
    "tags": []
   },
   "outputs": [
    {
     "data": {
      "text/plain": [
       "ID                    0\n",
       "age                   0\n",
       "gender                0\n",
       "polyuria              0\n",
       "polydipsia            0\n",
       "sudden_weight_loss    0\n",
       "weakness              0\n",
       "polyphagia            0\n",
       "genital_thrush        0\n",
       "visual_blurring       0\n",
       "itching               0\n",
       "irritability          0\n",
       "delayed_healing       0\n",
       "partial_paresis       0\n",
       "muscle_stiffness      0\n",
       "alopecia              0\n",
       "obesity               0\n",
       "class                 0\n",
       "dtype: int64"
      ]
     },
     "execution_count": 6,
     "metadata": {},
     "output_type": "execute_result"
    }
   ],
   "source": [
    "train_set.isnull().sum()"
   ]
  },
  {
   "cell_type": "code",
   "execution_count": 7,
   "id": "85bb8b3d",
   "metadata": {
    "execution": {
     "iopub.execute_input": "2024-01-30T15:42:51.976812Z",
     "iopub.status.busy": "2024-01-30T15:42:51.976548Z",
     "iopub.status.idle": "2024-01-30T15:42:51.983276Z",
     "shell.execute_reply": "2024-01-30T15:42:51.982497Z"
    },
    "papermill": {
     "duration": 0.018203,
     "end_time": "2024-01-30T15:42:51.985091",
     "exception": false,
     "start_time": "2024-01-30T15:42:51.966888",
     "status": "completed"
    },
    "tags": []
   },
   "outputs": [
    {
     "data": {
      "text/plain": [
       "ID                    0\n",
       "age                   0\n",
       "gender                0\n",
       "polyuria              0\n",
       "polydipsia            0\n",
       "sudden_weight_loss    0\n",
       "weakness              0\n",
       "polyphagia            0\n",
       "genital_thrush        0\n",
       "visual_blurring       0\n",
       "itching               0\n",
       "irritability          0\n",
       "delayed_healing       0\n",
       "partial_paresis       0\n",
       "muscle_stiffness      0\n",
       "alopecia              0\n",
       "obesity               0\n",
       "dtype: int64"
      ]
     },
     "execution_count": 7,
     "metadata": {},
     "output_type": "execute_result"
    }
   ],
   "source": [
    "test_set.isnull().sum()"
   ]
  },
  {
   "cell_type": "code",
   "execution_count": 8,
   "id": "879e953c",
   "metadata": {
    "execution": {
     "iopub.execute_input": "2024-01-30T15:42:52.004484Z",
     "iopub.status.busy": "2024-01-30T15:42:52.004207Z",
     "iopub.status.idle": "2024-01-30T15:42:52.034719Z",
     "shell.execute_reply": "2024-01-30T15:42:52.033747Z"
    },
    "papermill": {
     "duration": 0.042264,
     "end_time": "2024-01-30T15:42:52.036538",
     "exception": false,
     "start_time": "2024-01-30T15:42:51.994274",
     "status": "completed"
    },
    "tags": []
   },
   "outputs": [
    {
     "name": "stdout",
     "output_type": "stream",
     "text": [
      "<class 'pandas.core.frame.DataFrame'>\n",
      "RangeIndex: 364 entries, 0 to 363\n",
      "Data columns (total 18 columns):\n",
      " #   Column              Non-Null Count  Dtype \n",
      "---  ------              --------------  ----- \n",
      " 0   ID                  364 non-null    int64 \n",
      " 1   age                 364 non-null    int64 \n",
      " 2   gender              364 non-null    object\n",
      " 3   polyuria            364 non-null    object\n",
      " 4   polydipsia          364 non-null    object\n",
      " 5   sudden_weight_loss  364 non-null    object\n",
      " 6   weakness            364 non-null    object\n",
      " 7   polyphagia          364 non-null    object\n",
      " 8   genital_thrush      364 non-null    object\n",
      " 9   visual_blurring     364 non-null    object\n",
      " 10  itching             364 non-null    object\n",
      " 11  irritability        364 non-null    object\n",
      " 12  delayed_healing     364 non-null    object\n",
      " 13  partial_paresis     364 non-null    object\n",
      " 14  muscle_stiffness    364 non-null    object\n",
      " 15  alopecia            364 non-null    object\n",
      " 16  obesity             364 non-null    object\n",
      " 17  class               364 non-null    object\n",
      "dtypes: int64(2), object(16)\n",
      "memory usage: 51.3+ KB\n"
     ]
    }
   ],
   "source": [
    "train_set.info()"
   ]
  },
  {
   "cell_type": "markdown",
   "id": "4f532aa6",
   "metadata": {
    "papermill": {
     "duration": 0.009151,
     "end_time": "2024-01-30T15:42:52.055079",
     "exception": false,
     "start_time": "2024-01-30T15:42:52.045928",
     "status": "completed"
    },
    "tags": []
   },
   "source": [
    "# Graphic: "
   ]
  },
  {
   "cell_type": "code",
   "execution_count": 9,
   "id": "6e5e7cf1",
   "metadata": {
    "execution": {
     "iopub.execute_input": "2024-01-30T15:42:52.076572Z",
     "iopub.status.busy": "2024-01-30T15:42:52.075806Z",
     "iopub.status.idle": "2024-01-30T15:42:52.270718Z",
     "shell.execute_reply": "2024-01-30T15:42:52.269580Z"
    },
    "papermill": {
     "duration": 0.208914,
     "end_time": "2024-01-30T15:42:52.273872",
     "exception": false,
     "start_time": "2024-01-30T15:42:52.064958",
     "status": "completed"
    },
    "tags": []
   },
   "outputs": [
    {
     "data": {
      "image/png": "[encoded data removed]",
      "text/plain": [
       "<Figure size 640x480 with 1 Axes>"
      ]
     },
     "metadata": {},
     "output_type": "display_data"
    }
   ],
   "source": [
    "train_class = train_set['class'].value_counts()\n",
    "\n",
    "\n",
    "plt.bar(train_class.index, train_class.values, color=['red','green'])\n",
    "plt.xlabel('Value')\n",
    "plt.ylabel('Count')\n",
    "plt.title('Number of Positive and Negative Values')\n",
    "plt.show()"
   ]
  },
  {
   "cell_type": "markdown",
   "id": "82afcf27",
   "metadata": {
    "papermill": {
     "duration": 0.017048,
     "end_time": "2024-01-30T15:42:52.308747",
     "exception": false,
     "start_time": "2024-01-30T15:42:52.291699",
     "status": "completed"
    },
    "tags": []
   },
   "source": [
    "# Data Analysis: "
   ]
  },
  {
   "cell_type": "code",
   "execution_count": 10,
   "id": "27fc949a",
   "metadata": {
    "execution": {
     "iopub.execute_input": "2024-01-30T15:42:52.339126Z",
     "iopub.status.busy": "2024-01-30T15:42:52.338409Z",
     "iopub.status.idle": "2024-01-30T15:42:52.353641Z",
     "shell.execute_reply": "2024-01-30T15:42:52.352814Z"
    },
    "papermill": {
     "duration": 0.03462,
     "end_time": "2024-01-30T15:42:52.356166",
     "exception": false,
     "start_time": "2024-01-30T15:42:52.321546",
     "status": "completed"
    },
    "tags": []
   },
   "outputs": [],
   "source": [
    "lb_encoder =LabelEncoder()\n",
    "\n",
    "for column in train_set.columns[1:]:\n",
    "    train_set[column]= lb_encoder.fit_transform(train_set[column])"
   ]
  },
  {
   "cell_type": "code",
   "execution_count": 11,
   "id": "b84f3fba",
   "metadata": {
    "execution": {
     "iopub.execute_input": "2024-01-30T15:42:52.379749Z",
     "iopub.status.busy": "2024-01-30T15:42:52.379472Z",
     "iopub.status.idle": "2024-01-30T15:42:52.393615Z",
     "shell.execute_reply": "2024-01-30T15:42:52.392769Z"
    },
    "papermill": {
     "duration": 0.026739,
     "end_time": "2024-01-30T15:42:52.395580",
     "exception": false,
     "start_time": "2024-01-30T15:42:52.368841",
     "status": "completed"
    },
    "tags": []
   },
   "outputs": [
    {
     "data": {
      "text/html": [
       "<div>\n",
       "<style scoped>\n",
       "    .dataframe tbody tr th:only-of-type {\n",
       "        vertical-align: middle;\n",
       "    }\n",
       "\n",
       "    .dataframe tbody tr th {\n",
       "        vertical-align: top;\n",
       "    }\n",
       "\n",
       "    .dataframe thead th {\n",
       "        text-align: right;\n",
       "    }\n",
       "</style>\n",
       "<table border=\"1\" class=\"dataframe\">\n",
       "  <thead>\n",
       "    <tr style=\"text-align: right;\">\n",
       "      <th></th>\n",
       "      <th>ID</th>\n",
       "      <th>age</th>\n",
       "      <th>gender</th>\n",
       "      <th>polyuria</th>\n",
       "      <th>polydipsia</th>\n",
       "      <th>sudden_weight_loss</th>\n",
       "      <th>weakness</th>\n",
       "      <th>polyphagia</th>\n",
       "      <th>genital_thrush</th>\n",
       "      <th>visual_blurring</th>\n",
       "      <th>itching</th>\n",
       "      <th>irritability</th>\n",
       "      <th>delayed_healing</th>\n",
       "      <th>partial_paresis</th>\n",
       "      <th>muscle_stiffness</th>\n",
       "      <th>alopecia</th>\n",
       "      <th>obesity</th>\n",
       "      <th>class</th>\n",
       "    </tr>\n",
       "  </thead>\n",
       "  <tbody>\n",
       "    <tr>\n",
       "      <th>0</th>\n",
       "      <td>0</td>\n",
       "      <td>17</td>\n",
       "      <td>1</td>\n",
       "      <td>1</td>\n",
       "      <td>0</td>\n",
       "      <td>0</td>\n",
       "      <td>1</td>\n",
       "      <td>1</td>\n",
       "      <td>0</td>\n",
       "      <td>0</td>\n",
       "      <td>1</td>\n",
       "      <td>0</td>\n",
       "      <td>1</td>\n",
       "      <td>0</td>\n",
       "      <td>1</td>\n",
       "      <td>1</td>\n",
       "      <td>0</td>\n",
       "      <td>1</td>\n",
       "    </tr>\n",
       "    <tr>\n",
       "      <th>1</th>\n",
       "      <td>1</td>\n",
       "      <td>21</td>\n",
       "      <td>1</td>\n",
       "      <td>0</td>\n",
       "      <td>0</td>\n",
       "      <td>1</td>\n",
       "      <td>1</td>\n",
       "      <td>1</td>\n",
       "      <td>1</td>\n",
       "      <td>0</td>\n",
       "      <td>1</td>\n",
       "      <td>0</td>\n",
       "      <td>1</td>\n",
       "      <td>0</td>\n",
       "      <td>0</td>\n",
       "      <td>0</td>\n",
       "      <td>0</td>\n",
       "      <td>1</td>\n",
       "    </tr>\n",
       "    <tr>\n",
       "      <th>2</th>\n",
       "      <td>2</td>\n",
       "      <td>36</td>\n",
       "      <td>1</td>\n",
       "      <td>1</td>\n",
       "      <td>1</td>\n",
       "      <td>1</td>\n",
       "      <td>1</td>\n",
       "      <td>1</td>\n",
       "      <td>0</td>\n",
       "      <td>1</td>\n",
       "      <td>1</td>\n",
       "      <td>1</td>\n",
       "      <td>1</td>\n",
       "      <td>1</td>\n",
       "      <td>1</td>\n",
       "      <td>1</td>\n",
       "      <td>1</td>\n",
       "      <td>1</td>\n",
       "    </tr>\n",
       "    <tr>\n",
       "      <th>3</th>\n",
       "      <td>3</td>\n",
       "      <td>42</td>\n",
       "      <td>1</td>\n",
       "      <td>1</td>\n",
       "      <td>1</td>\n",
       "      <td>1</td>\n",
       "      <td>1</td>\n",
       "      <td>0</td>\n",
       "      <td>0</td>\n",
       "      <td>1</td>\n",
       "      <td>1</td>\n",
       "      <td>1</td>\n",
       "      <td>0</td>\n",
       "      <td>1</td>\n",
       "      <td>1</td>\n",
       "      <td>0</td>\n",
       "      <td>0</td>\n",
       "      <td>1</td>\n",
       "    </tr>\n",
       "    <tr>\n",
       "      <th>4</th>\n",
       "      <td>4</td>\n",
       "      <td>43</td>\n",
       "      <td>1</td>\n",
       "      <td>1</td>\n",
       "      <td>1</td>\n",
       "      <td>0</td>\n",
       "      <td>1</td>\n",
       "      <td>1</td>\n",
       "      <td>1</td>\n",
       "      <td>0</td>\n",
       "      <td>1</td>\n",
       "      <td>1</td>\n",
       "      <td>0</td>\n",
       "      <td>1</td>\n",
       "      <td>1</td>\n",
       "      <td>0</td>\n",
       "      <td>1</td>\n",
       "      <td>1</td>\n",
       "    </tr>\n",
       "  </tbody>\n",
       "</table>\n",
       "</div>"
      ],
      "text/plain": [
       "   ID  age  gender  polyuria  polydipsia  sudden_weight_loss  weakness  \\\n",
       "0   0   17       1         1           0                   0         1   \n",
       "1   1   21       1         0           0                   1         1   \n",
       "2   2   36       1         1           1                   1         1   \n",
       "3   3   42       1         1           1                   1         1   \n",
       "4   4   43       1         1           1                   0         1   \n",
       "\n",
       "   polyphagia  genital_thrush  visual_blurring  itching  irritability  \\\n",
       "0           1               0                0        1             0   \n",
       "1           1               1                0        1             0   \n",
       "2           1               0                1        1             1   \n",
       "3           0               0                1        1             1   \n",
       "4           1               1                0        1             1   \n",
       "\n",
       "   delayed_healing  partial_paresis  muscle_stiffness  alopecia  obesity  \\\n",
       "0                1                0                 1         1        0   \n",
       "1                1                0                 0         0        0   \n",
       "2                1                1                 1         1        1   \n",
       "3                0                1                 1         0        0   \n",
       "4                0                1                 1         0        1   \n",
       "\n",
       "   class  \n",
       "0      1  \n",
       "1      1  \n",
       "2      1  \n",
       "3      1  \n",
       "4      1  "
      ]
     },
     "execution_count": 11,
     "metadata": {},
     "output_type": "execute_result"
    }
   ],
   "source": [
    "train_set.head()"
   ]
  },
  {
   "cell_type": "code",
   "execution_count": 12,
   "id": "69bd800c",
   "metadata": {
    "execution": {
     "iopub.execute_input": "2024-01-30T15:42:52.417962Z",
     "iopub.status.busy": "2024-01-30T15:42:52.417632Z",
     "iopub.status.idle": "2024-01-30T15:42:52.437759Z",
     "shell.execute_reply": "2024-01-30T15:42:52.437015Z"
    },
    "papermill": {
     "duration": 0.034313,
     "end_time": "2024-01-30T15:42:52.439670",
     "exception": false,
     "start_time": "2024-01-30T15:42:52.405357",
     "status": "completed"
    },
    "tags": []
   },
   "outputs": [
    {
     "data": {
      "text/plain": [
       "ID                   -0.455019\n",
       "age                   0.080641\n",
       "gender               -0.438218\n",
       "polyuria              0.672415\n",
       "polydipsia            0.652493\n",
       "sudden_weight_loss    0.437746\n",
       "weakness              0.219472\n",
       "polyphagia            0.357938\n",
       "genital_thrush        0.105600\n",
       "visual_blurring       0.261061\n",
       "itching              -0.024880\n",
       "irritability          0.292455\n",
       "delayed_healing       0.041787\n",
       "partial_paresis       0.418627\n",
       "muscle_stiffness      0.117294\n",
       "alopecia             -0.287605\n",
       "obesity               0.073436\n",
       "class                 1.000000\n",
       "dtype: float64"
      ]
     },
     "execution_count": 12,
     "metadata": {},
     "output_type": "execute_result"
    }
   ],
   "source": [
    "train_set.corrwith(train_set['class'])\n"
   ]
  },
  {
   "cell_type": "code",
   "execution_count": 13,
   "id": "4aeb4269",
   "metadata": {
    "execution": {
     "iopub.execute_input": "2024-01-30T15:42:52.462870Z",
     "iopub.status.busy": "2024-01-30T15:42:52.462621Z",
     "iopub.status.idle": "2024-01-30T15:42:52.467896Z",
     "shell.execute_reply": "2024-01-30T15:42:52.467029Z"
    },
    "papermill": {
     "duration": 0.017868,
     "end_time": "2024-01-30T15:42:52.469676",
     "exception": false,
     "start_time": "2024-01-30T15:42:52.451808",
     "status": "completed"
    },
    "tags": []
   },
   "outputs": [
    {
     "data": {
      "text/plain": [
       "(364, 18)"
      ]
     },
     "execution_count": 13,
     "metadata": {},
     "output_type": "execute_result"
    }
   ],
   "source": [
    "train_set.shape"
   ]
  },
  {
   "cell_type": "code",
   "execution_count": 14,
   "id": "8c085a24",
   "metadata": {
    "execution": {
     "iopub.execute_input": "2024-01-30T15:42:52.490844Z",
     "iopub.status.busy": "2024-01-30T15:42:52.490601Z",
     "iopub.status.idle": "2024-01-30T15:42:52.495652Z",
     "shell.execute_reply": "2024-01-30T15:42:52.494813Z"
    },
    "papermill": {
     "duration": 0.01767,
     "end_time": "2024-01-30T15:42:52.497458",
     "exception": false,
     "start_time": "2024-01-30T15:42:52.479788",
     "status": "completed"
    },
    "tags": []
   },
   "outputs": [],
   "source": [
    "train_set[\"age\"] = (train_set['age'] - np.min(train_set['age']))/(np.max(train_set['age'])-np.min(train_set['age']))"
   ]
  },
  {
   "cell_type": "code",
   "execution_count": 15,
   "id": "5187fa71",
   "metadata": {
    "execution": {
     "iopub.execute_input": "2024-01-30T15:42:52.526077Z",
     "iopub.status.busy": "2024-01-30T15:42:52.525388Z",
     "iopub.status.idle": "2024-01-30T15:42:52.534760Z",
     "shell.execute_reply": "2024-01-30T15:42:52.533840Z"
    },
    "papermill": {
     "duration": 0.0288,
     "end_time": "2024-01-30T15:42:52.537312",
     "exception": false,
     "start_time": "2024-01-30T15:42:52.508512",
     "status": "completed"
    },
    "tags": []
   },
   "outputs": [],
   "source": [
    "X = train_set.drop(['class', 'ID','gender'], axis=1)\n",
    "Y = train_set['class']\n"
   ]
  },
  {
   "cell_type": "code",
   "execution_count": 16,
   "id": "0fc38c77",
   "metadata": {
    "execution": {
     "iopub.execute_input": "2024-01-30T15:42:52.562705Z",
     "iopub.status.busy": "2024-01-30T15:42:52.561890Z",
     "iopub.status.idle": "2024-01-30T15:42:52.568567Z",
     "shell.execute_reply": "2024-01-30T15:42:52.567677Z"
    },
    "papermill": {
     "duration": 0.020839,
     "end_time": "2024-01-30T15:42:52.570507",
     "exception": false,
     "start_time": "2024-01-30T15:42:52.549668",
     "status": "completed"
    },
    "tags": []
   },
   "outputs": [
    {
     "data": {
      "text/plain": [
       "(364, 15)"
      ]
     },
     "execution_count": 16,
     "metadata": {},
     "output_type": "execute_result"
    }
   ],
   "source": [
    "X.shape"
   ]
  },
  {
   "cell_type": "code",
   "execution_count": 17,
   "id": "0e950397",
   "metadata": {
    "execution": {
     "iopub.execute_input": "2024-01-30T15:42:52.594856Z",
     "iopub.status.busy": "2024-01-30T15:42:52.594607Z",
     "iopub.status.idle": "2024-01-30T15:42:52.599715Z",
     "shell.execute_reply": "2024-01-30T15:42:52.598937Z"
    },
    "papermill": {
     "duration": 0.018738,
     "end_time": "2024-01-30T15:42:52.601580",
     "exception": false,
     "start_time": "2024-01-30T15:42:52.582842",
     "status": "completed"
    },
    "tags": []
   },
   "outputs": [
    {
     "data": {
      "text/plain": [
       "(364,)"
      ]
     },
     "execution_count": 17,
     "metadata": {},
     "output_type": "execute_result"
    }
   ],
   "source": [
    "Y.shape"
   ]
  },
  {
   "cell_type": "markdown",
   "id": "a6a0f736",
   "metadata": {
    "papermill": {
     "duration": 0.010543,
     "end_time": "2024-01-30T15:42:52.622796",
     "exception": false,
     "start_time": "2024-01-30T15:42:52.612253",
     "status": "completed"
    },
    "tags": []
   },
   "source": [
    "# Machine Learning :"
   ]
  },
  {
   "cell_type": "code",
   "execution_count": 18,
   "id": "8ebd7e98",
   "metadata": {
    "execution": {
     "iopub.execute_input": "2024-01-30T15:42:52.644673Z",
     "iopub.status.busy": "2024-01-30T15:42:52.644432Z",
     "iopub.status.idle": "2024-01-30T15:42:52.651821Z",
     "shell.execute_reply": "2024-01-30T15:42:52.651020Z"
    },
    "papermill": {
     "duration": 0.020615,
     "end_time": "2024-01-30T15:42:52.653770",
     "exception": false,
     "start_time": "2024-01-30T15:42:52.633155",
     "status": "completed"
    },
    "tags": []
   },
   "outputs": [],
   "source": [
    "X_train,X_test,y_train,y_test = train_test_split(X, Y, test_size=0.2, random_state=42)"
   ]
  },
  {
   "cell_type": "code",
   "execution_count": 19,
   "id": "2d241d48",
   "metadata": {
    "execution": {
     "iopub.execute_input": "2024-01-30T15:42:52.675632Z",
     "iopub.status.busy": "2024-01-30T15:42:52.675345Z",
     "iopub.status.idle": "2024-01-30T15:42:52.698480Z",
     "shell.execute_reply": "2024-01-30T15:42:52.697646Z"
    },
    "papermill": {
     "duration": 0.036348,
     "end_time": "2024-01-30T15:42:52.700495",
     "exception": false,
     "start_time": "2024-01-30T15:42:52.664147",
     "status": "completed"
    },
    "tags": []
   },
   "outputs": [
    {
     "data": {
      "text/html": [
       "<style>#sk-container-id-1 {color: black;background-color: white;}#sk-container-id-1 pre{padding: 0;}#sk-container-id-1 div.sk-toggleable {background-color: white;}#sk-container-id-1 label.sk-toggleable__label {cursor: pointer;display: block;width: 100%;margin-bottom: 0;padding: 0.3em;box-sizing: border-box;text-align: center;}#sk-container-id-1 label.sk-toggleable__label-arrow:before {content: \"▸\";float: left;margin-right: 0.25em;color: #696969;}#sk-container-id-1 label.sk-toggleable__label-arrow:hover:before {color: black;}#sk-container-id-1 div.sk-estimator:hover label.sk-toggleable__label-arrow:before {color: black;}#sk-container-id-1 div.sk-toggleable__content {max-height: 0;max-width: 0;overflow: hidden;text-align: left;background-color: #f0f8ff;}#sk-container-id-1 div.sk-toggleable__content pre {margin: 0.2em;color: black;border-radius: 0.25em;background-color: #f0f8ff;}#sk-container-id-1 input.sk-toggleable__control:checked~div.sk-toggleable__content {max-height: 200px;max-width: 100%;overflow: auto;}#sk-container-id-1 input.sk-toggleable__control:checked~label.sk-toggleable__label-arrow:before {content: \"▾\";}#sk-container-id-1 div.sk-estimator input.sk-toggleable__control:checked~label.sk-toggleable__label {background-color: #d4ebff;}#sk-container-id-1 div.sk-label input.sk-toggleable__control:checked~label.sk-toggleable__label {background-color: #d4ebff;}#sk-container-id-1 input.sk-hidden--visually {border: 0;clip: rect(1px 1px 1px 1px);clip: rect(1px, 1px, 1px, 1px);height: 1px;margin: -1px;overflow: hidden;padding: 0;position: absolute;width: 1px;}#sk-container-id-1 div.sk-estimator {font-family: monospace;background-color: #f0f8ff;border: 1px dotted black;border-radius: 0.25em;box-sizing: border-box;margin-bottom: 0.5em;}#sk-container-id-1 div.sk-estimator:hover {background-color: #d4ebff;}#sk-container-id-1 div.sk-parallel-item::after {content: \"\";width: 100%;border-bottom: 1px solid gray;flex-grow: 1;}#sk-container-id-1 div.sk-label:hover label.sk-toggleable__label {background-color: #d4ebff;}#sk-container-id-1 div.sk-serial::before {content: \"\";position: absolute;border-left: 1px solid gray;box-sizing: border-box;top: 0;bottom: 0;left: 50%;z-index: 0;}#sk-container-id-1 div.sk-serial {display: flex;flex-direction: column;align-items: center;background-color: white;padding-right: 0.2em;padding-left: 0.2em;position: relative;}#sk-container-id-1 div.sk-item {position: relative;z-index: 1;}#sk-container-id-1 div.sk-parallel {display: flex;align-items: stretch;justify-content: center;background-color: white;position: relative;}#sk-container-id-1 div.sk-item::before, #sk-container-id-1 div.sk-parallel-item::before {content: \"\";position: absolute;border-left: 1px solid gray;box-sizing: border-box;top: 0;bottom: 0;left: 50%;z-index: -1;}#sk-container-id-1 div.sk-parallel-item {display: flex;flex-direction: column;z-index: 1;position: relative;background-color: white;}#sk-container-id-1 div.sk-parallel-item:first-child::after {align-self: flex-end;width: 50%;}#sk-container-id-1 div.sk-parallel-item:last-child::after {align-self: flex-start;width: 50%;}#sk-container-id-1 div.sk-parallel-item:only-child::after {width: 0;}#sk-container-id-1 div.sk-dashed-wrapped {border: 1px dashed gray;margin: 0 0.4em 0.5em 0.4em;box-sizing: border-box;padding-bottom: 0.4em;background-color: white;}#sk-container-id-1 div.sk-label label {font-family: monospace;font-weight: bold;display: inline-block;line-height: 1.2em;}#sk-container-id-1 div.sk-label-container {text-align: center;}#sk-container-id-1 div.sk-container {/* jupyter's `normalize.less` sets `[hidden] { display: none; }` but bootstrap.min.css set `[hidden] { display: none !important; }` so we also need the `!important` here to be able to override the default hidden behavior on the sphinx rendered scikit-learn.org. See: https://github.com/scikit-learn/scikit-learn/issues/21755 */display: inline-block !important;position: relative;}#sk-container-id-1 div.sk-text-repr-fallback {display: none;}</style><div id=\"sk-container-id-1\" class=\"sk-top-container\"><div class=\"sk-text-repr-fallback\"><pre>LogisticRegression()</pre><b>In a Jupyter environment, please rerun this cell to show the HTML representation or trust the notebook. <br />On GitHub, the HTML representation is unable to render, please try loading this page with nbviewer.org.</b></div><div class=\"sk-container\" hidden><div class=\"sk-item\"><div class=\"sk-estimator sk-toggleable\"><input class=\"sk-toggleable__control sk-hidden--visually\" id=\"sk-estimator-id-1\" type=\"checkbox\" checked><label for=\"sk-estimator-id-1\" class=\"sk-toggleable__label sk-toggleable__label-arrow\">LogisticRegression</label><div class=\"sk-toggleable__content\"><pre>LogisticRegression()</pre></div></div></div></div></div>"
      ],
      "text/plain": [
       "LogisticRegression()"
      ]
     },
     "execution_count": 19,
     "metadata": {},
     "output_type": "execute_result"
    }
   ],
   "source": [
    "model = LogisticRegression()\n",
    "model.fit(X_train,y_train)"
   ]
  },
  {
   "cell_type": "code",
   "execution_count": 20,
   "id": "fe744ccc",
   "metadata": {
    "execution": {
     "iopub.execute_input": "2024-01-30T15:42:52.722795Z",
     "iopub.status.busy": "2024-01-30T15:42:52.722553Z",
     "iopub.status.idle": "2024-01-30T15:42:52.938937Z",
     "shell.execute_reply": "2024-01-30T15:42:52.938160Z"
    },
    "papermill": {
     "duration": 0.229636,
     "end_time": "2024-01-30T15:42:52.940846",
     "exception": false,
     "start_time": "2024-01-30T15:42:52.711210",
     "status": "completed"
    },
    "tags": []
   },
   "outputs": [
    {
     "data": {
      "text/html": [
       "<style>#sk-container-id-2 {color: black;background-color: white;}#sk-container-id-2 pre{padding: 0;}#sk-container-id-2 div.sk-toggleable {background-color: white;}#sk-container-id-2 label.sk-toggleable__label {cursor: pointer;display: block;width: 100%;margin-bottom: 0;padding: 0.3em;box-sizing: border-box;text-align: center;}#sk-container-id-2 label.sk-toggleable__label-arrow:before {content: \"▸\";float: left;margin-right: 0.25em;color: #696969;}#sk-container-id-2 label.sk-toggleable__label-arrow:hover:before {color: black;}#sk-container-id-2 div.sk-estimator:hover label.sk-toggleable__label-arrow:before {color: black;}#sk-container-id-2 div.sk-toggleable__content {max-height: 0;max-width: 0;overflow: hidden;text-align: left;background-color: #f0f8ff;}#sk-container-id-2 div.sk-toggleable__content pre {margin: 0.2em;color: black;border-radius: 0.25em;background-color: #f0f8ff;}#sk-container-id-2 input.sk-toggleable__control:checked~div.sk-toggleable__content {max-height: 200px;max-width: 100%;overflow: auto;}#sk-container-id-2 input.sk-toggleable__control:checked~label.sk-toggleable__label-arrow:before {content: \"▾\";}#sk-container-id-2 div.sk-estimator input.sk-toggleable__control:checked~label.sk-toggleable__label {background-color: #d4ebff;}#sk-container-id-2 div.sk-label input.sk-toggleable__control:checked~label.sk-toggleable__label {background-color: #d4ebff;}#sk-container-id-2 input.sk-hidden--visually {border: 0;clip: rect(1px 1px 1px 1px);clip: rect(1px, 1px, 1px, 1px);height: 1px;margin: -1px;overflow: hidden;padding: 0;position: absolute;width: 1px;}#sk-container-id-2 div.sk-estimator {font-family: monospace;background-color: #f0f8ff;border: 1px dotted black;border-radius: 0.25em;box-sizing: border-box;margin-bottom: 0.5em;}#sk-container-id-2 div.sk-estimator:hover {background-color: #d4ebff;}#sk-container-id-2 div.sk-parallel-item::after {content: \"\";width: 100%;border-bottom: 1px solid gray;flex-grow: 1;}#sk-container-id-2 div.sk-label:hover label.sk-toggleable__label {background-color: #d4ebff;}#sk-container-id-2 div.sk-serial::before {content: \"\";position: absolute;border-left: 1px solid gray;box-sizing: border-box;top: 0;bottom: 0;left: 50%;z-index: 0;}#sk-container-id-2 div.sk-serial {display: flex;flex-direction: column;align-items: center;background-color: white;padding-right: 0.2em;padding-left: 0.2em;position: relative;}#sk-container-id-2 div.sk-item {position: relative;z-index: 1;}#sk-container-id-2 div.sk-parallel {display: flex;align-items: stretch;justify-content: center;background-color: white;position: relative;}#sk-container-id-2 div.sk-item::before, #sk-container-id-2 div.sk-parallel-item::before {content: \"\";position: absolute;border-left: 1px solid gray;box-sizing: border-box;top: 0;bottom: 0;left: 50%;z-index: -1;}#sk-container-id-2 div.sk-parallel-item {display: flex;flex-direction: column;z-index: 1;position: relative;background-color: white;}#sk-container-id-2 div.sk-parallel-item:first-child::after {align-self: flex-end;width: 50%;}#sk-container-id-2 div.sk-parallel-item:last-child::after {align-self: flex-start;width: 50%;}#sk-container-id-2 div.sk-parallel-item:only-child::after {width: 0;}#sk-container-id-2 div.sk-dashed-wrapped {border: 1px dashed gray;margin: 0 0.4em 0.5em 0.4em;box-sizing: border-box;padding-bottom: 0.4em;background-color: white;}#sk-container-id-2 div.sk-label label {font-family: monospace;font-weight: bold;display: inline-block;line-height: 1.2em;}#sk-container-id-2 div.sk-label-container {text-align: center;}#sk-container-id-2 div.sk-container {/* jupyter's `normalize.less` sets `[hidden] { display: none; }` but bootstrap.min.css set `[hidden] { display: none !important; }` so we also need the `!important` here to be able to override the default hidden behavior on the sphinx rendered scikit-learn.org. See: https://github.com/scikit-learn/scikit-learn/issues/21755 */display: inline-block !important;position: relative;}#sk-container-id-2 div.sk-text-repr-fallback {display: none;}</style><div id=\"sk-container-id-2\" class=\"sk-top-container\"><div class=\"sk-text-repr-fallback\"><pre>RandomForestClassifier(random_state=42)</pre><b>In a Jupyter environment, please rerun this cell to show the HTML representation or trust the notebook. <br />On GitHub, the HTML representation is unable to render, please try loading this page with nbviewer.org.</b></div><div class=\"sk-container\" hidden><div class=\"sk-item\"><div class=\"sk-estimator sk-toggleable\"><input class=\"sk-toggleable__control sk-hidden--visually\" id=\"sk-estimator-id-2\" type=\"checkbox\" checked><label for=\"sk-estimator-id-2\" class=\"sk-toggleable__label sk-toggleable__label-arrow\">RandomForestClassifier</label><div class=\"sk-toggleable__content\"><pre>RandomForestClassifier(random_state=42)</pre></div></div></div></div></div>"
      ],
      "text/plain": [
       "RandomForestClassifier(random_state=42)"
      ]
     },
     "execution_count": 20,
     "metadata": {},
     "output_type": "execute_result"
    }
   ],
   "source": [
    "rf_model = RandomForestClassifier(n_estimators=100, random_state=42)\n",
    "rf_model.fit(X_train,y_train)"
   ]
  },
  {
   "cell_type": "markdown",
   "id": "2c7079d1",
   "metadata": {
    "papermill": {
     "duration": 0.010596,
     "end_time": "2024-01-30T15:42:52.962373",
     "exception": false,
     "start_time": "2024-01-30T15:42:52.951777",
     "status": "completed"
    },
    "tags": []
   },
   "source": [
    "# Predict model: "
   ]
  },
  {
   "cell_type": "code",
   "execution_count": 21,
   "id": "a1a92186",
   "metadata": {
    "execution": {
     "iopub.execute_input": "2024-01-30T15:42:52.985001Z",
     "iopub.status.busy": "2024-01-30T15:42:52.984742Z",
     "iopub.status.idle": "2024-01-30T15:42:52.998839Z",
     "shell.execute_reply": "2024-01-30T15:42:52.997940Z"
    },
    "papermill": {
     "duration": 0.027433,
     "end_time": "2024-01-30T15:42:53.000655",
     "exception": false,
     "start_time": "2024-01-30T15:42:52.973222",
     "status": "completed"
    },
    "tags": []
   },
   "outputs": [
    {
     "name": "stdout",
     "output_type": "stream",
     "text": [
      "Model accuracy: 98.63%\n"
     ]
    }
   ],
   "source": [
    "# Making predictions on the test data\n",
    "y_pred = rf_model.predict(X_test)\n",
    "\n",
    "# Checking the accuracy of the model\n",
    "accuracy = accuracy_score(y_test, y_pred)\n",
    "print(f'Model accuracy: {accuracy * 100:.2f}%')"
   ]
  },
  {
   "cell_type": "code",
   "execution_count": 22,
   "id": "fc84c77f",
   "metadata": {
    "execution": {
     "iopub.execute_input": "2024-01-30T15:42:53.023638Z",
     "iopub.status.busy": "2024-01-30T15:42:53.023393Z",
     "iopub.status.idle": "2024-01-30T15:42:53.034821Z",
     "shell.execute_reply": "2024-01-30T15:42:53.033894Z"
    },
    "papermill": {
     "duration": 0.025351,
     "end_time": "2024-01-30T15:42:53.036871",
     "exception": false,
     "start_time": "2024-01-30T15:42:53.011520",
     "status": "completed"
    },
    "tags": []
   },
   "outputs": [],
   "source": [
    "for column in test_set.columns[1:]:\n",
    "    test_set[column]= lb_encoder.fit_transform(test_set[column])"
   ]
  },
  {
   "cell_type": "code",
   "execution_count": 23,
   "id": "2cb8b8e9",
   "metadata": {
    "execution": {
     "iopub.execute_input": "2024-01-30T15:42:53.059726Z",
     "iopub.status.busy": "2024-01-30T15:42:53.059463Z",
     "iopub.status.idle": "2024-01-30T15:42:53.073037Z",
     "shell.execute_reply": "2024-01-30T15:42:53.072244Z"
    },
    "papermill": {
     "duration": 0.027083,
     "end_time": "2024-01-30T15:42:53.074971",
     "exception": false,
     "start_time": "2024-01-30T15:42:53.047888",
     "status": "completed"
    },
    "tags": []
   },
   "outputs": [],
   "source": [
    "# Drop unnecessary columns in the test set\n",
    "X_test_final = test_set.drop(['ID','gender'], axis=1)\n",
    "\n",
    "# Make predictions using the RandomForestClassifier\n",
    "rf_predictions = rf_model.predict(X_test_final)\n"
   ]
  },
  {
   "cell_type": "markdown",
   "id": "4854bd00",
   "metadata": {
    "papermill": {
     "duration": 0.010792,
     "end_time": "2024-01-30T15:42:53.097182",
     "exception": false,
     "start_time": "2024-01-30T15:42:53.086390",
     "status": "completed"
    },
    "tags": []
   },
   "source": [
    "# Submission: "
   ]
  },
  {
   "cell_type": "code",
   "execution_count": 24,
   "id": "bc4357c5",
   "metadata": {
    "execution": {
     "iopub.execute_input": "2024-01-30T15:42:53.119758Z",
     "iopub.status.busy": "2024-01-30T15:42:53.119517Z",
     "iopub.status.idle": "2024-01-30T15:42:53.123308Z",
     "shell.execute_reply": "2024-01-30T15:42:53.122513Z"
    },
    "papermill": {
     "duration": 0.017121,
     "end_time": "2024-01-30T15:42:53.125109",
     "exception": false,
     "start_time": "2024-01-30T15:42:53.107988",
     "status": "completed"
    },
    "tags": []
   },
   "outputs": [],
   "source": [
    "\n",
    "# Update the submission DataFrame with the predicted values for RandomForest\n",
    "submission['class'] = rf_predictions"
   ]
  },
  {
   "cell_type": "code",
   "execution_count": 25,
   "id": "48b9a51b",
   "metadata": {
    "execution": {
     "iopub.execute_input": "2024-01-30T15:42:53.148190Z",
     "iopub.status.busy": "2024-01-30T15:42:53.147912Z",
     "iopub.status.idle": "2024-01-30T15:42:53.156994Z",
     "shell.execute_reply": "2024-01-30T15:42:53.156340Z"
    },
    "papermill": {
     "duration": 0.022721,
     "end_time": "2024-01-30T15:42:53.158872",
     "exception": false,
     "start_time": "2024-01-30T15:42:53.136151",
     "status": "completed"
    },
    "tags": []
   },
   "outputs": [],
   "source": [
    "# Make predictions using the Logistic Regression model\n",
    "rf_predictions = model.predict(X_test_final)\n",
    "\n",
    "# Update the submission DataFrame with the predicted values for Logistic Regression\n",
    "submission['class'] = rf_predictions\n",
    "\n",
    "# Save the submission DataFrame to a CSV file for Logistic Regression\n",
    "submission.to_csv('submission.csv', index=False)"
   ]
  },
  {
   "cell_type": "code",
   "execution_count": 26,
   "id": "560cbad6",
   "metadata": {
    "execution": {
     "iopub.execute_input": "2024-01-30T15:42:53.181611Z",
     "iopub.status.busy": "2024-01-30T15:42:53.181304Z",
     "iopub.status.idle": "2024-01-30T15:42:53.190802Z",
     "shell.execute_reply": "2024-01-30T15:42:53.190021Z"
    },
    "papermill": {
     "duration": 0.022927,
     "end_time": "2024-01-30T15:42:53.192751",
     "exception": false,
     "start_time": "2024-01-30T15:42:53.169824",
     "status": "completed"
    },
    "tags": []
   },
   "outputs": [
    {
     "data": {
      "text/html": [
       "<div>\n",
       "<style scoped>\n",
       "    .dataframe tbody tr th:only-of-type {\n",
       "        vertical-align: middle;\n",
       "    }\n",
       "\n",
       "    .dataframe tbody tr th {\n",
       "        vertical-align: top;\n",
       "    }\n",
       "\n",
       "    .dataframe thead th {\n",
       "        text-align: right;\n",
       "    }\n",
       "</style>\n",
       "<table border=\"1\" class=\"dataframe\">\n",
       "  <thead>\n",
       "    <tr style=\"text-align: right;\">\n",
       "      <th></th>\n",
       "      <th>ID</th>\n",
       "      <th>class</th>\n",
       "    </tr>\n",
       "  </thead>\n",
       "  <tbody>\n",
       "    <tr>\n",
       "      <th>0</th>\n",
       "      <td>0</td>\n",
       "      <td>0</td>\n",
       "    </tr>\n",
       "    <tr>\n",
       "      <th>1</th>\n",
       "      <td>1</td>\n",
       "      <td>0</td>\n",
       "    </tr>\n",
       "    <tr>\n",
       "      <th>2</th>\n",
       "      <td>2</td>\n",
       "      <td>0</td>\n",
       "    </tr>\n",
       "    <tr>\n",
       "      <th>3</th>\n",
       "      <td>3</td>\n",
       "      <td>0</td>\n",
       "    </tr>\n",
       "    <tr>\n",
       "      <th>4</th>\n",
       "      <td>4</td>\n",
       "      <td>0</td>\n",
       "    </tr>\n",
       "    <tr>\n",
       "      <th>5</th>\n",
       "      <td>5</td>\n",
       "      <td>0</td>\n",
       "    </tr>\n",
       "    <tr>\n",
       "      <th>6</th>\n",
       "      <td>6</td>\n",
       "      <td>0</td>\n",
       "    </tr>\n",
       "    <tr>\n",
       "      <th>7</th>\n",
       "      <td>7</td>\n",
       "      <td>0</td>\n",
       "    </tr>\n",
       "    <tr>\n",
       "      <th>8</th>\n",
       "      <td>8</td>\n",
       "      <td>0</td>\n",
       "    </tr>\n",
       "    <tr>\n",
       "      <th>9</th>\n",
       "      <td>9</td>\n",
       "      <td>0</td>\n",
       "    </tr>\n",
       "    <tr>\n",
       "      <th>10</th>\n",
       "      <td>10</td>\n",
       "      <td>0</td>\n",
       "    </tr>\n",
       "    <tr>\n",
       "      <th>11</th>\n",
       "      <td>11</td>\n",
       "      <td>0</td>\n",
       "    </tr>\n",
       "    <tr>\n",
       "      <th>12</th>\n",
       "      <td>12</td>\n",
       "      <td>0</td>\n",
       "    </tr>\n",
       "    <tr>\n",
       "      <th>13</th>\n",
       "      <td>13</td>\n",
       "      <td>0</td>\n",
       "    </tr>\n",
       "    <tr>\n",
       "      <th>14</th>\n",
       "      <td>14</td>\n",
       "      <td>0</td>\n",
       "    </tr>\n",
       "    <tr>\n",
       "      <th>15</th>\n",
       "      <td>15</td>\n",
       "      <td>0</td>\n",
       "    </tr>\n",
       "    <tr>\n",
       "      <th>16</th>\n",
       "      <td>16</td>\n",
       "      <td>0</td>\n",
       "    </tr>\n",
       "    <tr>\n",
       "      <th>17</th>\n",
       "      <td>17</td>\n",
       "      <td>0</td>\n",
       "    </tr>\n",
       "    <tr>\n",
       "      <th>18</th>\n",
       "      <td>18</td>\n",
       "      <td>0</td>\n",
       "    </tr>\n",
       "    <tr>\n",
       "      <th>19</th>\n",
       "      <td>19</td>\n",
       "      <td>0</td>\n",
       "    </tr>\n",
       "  </tbody>\n",
       "</table>\n",
       "</div>"
      ],
      "text/plain": [
       "    ID  class\n",
       "0    0      0\n",
       "1    1      0\n",
       "2    2      0\n",
       "3    3      0\n",
       "4    4      0\n",
       "5    5      0\n",
       "6    6      0\n",
       "7    7      0\n",
       "8    8      0\n",
       "9    9      0\n",
       "10  10      0\n",
       "11  11      0\n",
       "12  12      0\n",
       "13  13      0\n",
       "14  14      0\n",
       "15  15      0\n",
       "16  16      0\n",
       "17  17      0\n",
       "18  18      0\n",
       "19  19      0"
      ]
     },
     "execution_count": 26,
     "metadata": {},
     "output_type": "execute_result"
    }
   ],
   "source": [
    "submission.head(20)"
   ]
  },
  {
   "cell_type": "code",
   "execution_count": null,
   "id": "f75cf425",
   "metadata": {
    "papermill": {
     "duration": 0.010901,
     "end_time": "2024-01-30T15:42:53.214737",
     "exception": false,
     "start_time": "2024-01-30T15:42:53.203836",
     "status": "completed"
    },
    "tags": []
   },
   "outputs": [],
   "source": []
  }
 ],
 "metadata": {
  "kaggle": {
   "accelerator": "nvidiaTeslaT4",
   "dataSources": [
    {
     "databundleVersionId": 7583536,
     "sourceId": 68370,
     "sourceType": "competition"
    }
   ],
   "dockerImageVersionId": 30648,
   "isGpuEnabled": true,
   "isInternetEnabled": true,
   "language": "python",
   "sourceType": "notebook"
  },
  "kernelspec": {
   "display_name": "Python 3",
   "language": "python",
   "name": "python3"
  },
  "language_info": {
   "codemirror_mode": {
    "name": "ipython",
    "version": 3
   },
   "file_extension": ".py",
   "mimetype": "text/x-python",
   "name": "python",
   "nbconvert_exporter": "python",
   "pygments_lexer": "ipython3",
   "version": "3.10.13"
  },
  "papermill": {
   "default_parameters": {},
   "duration": 7.6566,
   "end_time": "2024-01-30T15:42:53.643681",
   "environment_variables": {},
   "exception": null,
   "input_path": "__notebook__.ipynb",
   "output_path": "__notebook__.ipynb",
   "parameters": {},
   "start_time": "2024-01-30T15:42:45.987081",
   "version": "2.5.0"
  }
 },
 "nbformat": 4,
 "nbformat_minor": 5
}
